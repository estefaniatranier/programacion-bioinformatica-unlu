{
  "cells": [
    {
      "cell_type": "markdown",
      "metadata": {
        "id": "view-in-github",
        "colab_type": "text"
      },
      "source": [
        "<a href=\"https://colab.research.google.com/github/jumafernandez/programacion-bioinformatica-unlu/blob/main/notebooks/10-Conjuntos.ipynb\" target=\"_parent\"><img src=\"https://colab.research.google.com/assets/colab-badge.svg\" alt=\"Open In Colab\"/></a>"
      ]
    },
    {
      "cell_type": "markdown",
      "metadata": {
        "id": "X-5wJwO-oAOA"
      },
      "source": [
        "# Conjuntos\n",
        "\n",
        "Un conjunto es una estructura de datos que puede tener múltiples elementos no repetidos sin un orden particular"
      ]
    },
    {
      "cell_type": "markdown",
      "metadata": {
        "id": "4cS_jc68oAOC"
      },
      "source": [
        "### Creando conjuntos"
      ]
    },
    {
      "cell_type": "markdown",
      "metadata": {
        "id": "0KEAzJTuoAOC"
      },
      "source": [
        "Creando un conjunto vacío"
      ]
    },
    {
      "cell_type": "code",
      "execution_count": null,
      "metadata": {
        "id": "uiYgYV9woAOC",
        "outputId": "83bff06a-4373-4f74-b8fb-0c5bfe92bd56"
      },
      "outputs": [
        {
          "name": "stdout",
          "output_type": "stream",
          "text": [
            "set()\n"
          ]
        }
      ],
      "source": [
        "s = set()\n",
        "print(s)"
      ]
    },
    {
      "cell_type": "markdown",
      "metadata": {
        "id": "3b5sNXvVoAOD"
      },
      "source": [
        "Creando un conjunto a partir de enumeración de los elementos"
      ]
    },
    {
      "cell_type": "code",
      "execution_count": null,
      "metadata": {
        "id": "hx-NIfcUoAOD",
        "outputId": "4b516fc3-da3e-479b-e62a-f7ffc7dd3292"
      },
      "outputs": [
        {
          "name": "stdout",
          "output_type": "stream",
          "text": [
            "<class 'set'>\n",
            "{2, 3, 5}\n"
          ]
        }
      ],
      "source": [
        "s = { 2, 3, 5 }\n",
        "print(type(s))\n",
        "print(s)"
      ]
    },
    {
      "cell_type": "markdown",
      "metadata": {
        "id": "PVMQXzmHoAOD"
      },
      "source": [
        "Creando un conjunto a partir de una lista"
      ]
    },
    {
      "cell_type": "code",
      "execution_count": null,
      "metadata": {
        "id": "yV6ItzPxoAOD",
        "outputId": "82fd553b-0f1f-43cc-fce6-18ca2da667d6"
      },
      "outputs": [
        {
          "name": "stdout",
          "output_type": "stream",
          "text": [
            "{'vaca', 'perro', 'gato'}\n"
          ]
        }
      ],
      "source": [
        "s = set([\"gato\", \"vaca\", \"perro\"])\n",
        "print(s)"
      ]
    },
    {
      "cell_type": "markdown",
      "metadata": {
        "id": "-4BBg178oAOE"
      },
      "source": [
        "Cuidado: { } no crea un conjunto vacío!"
      ]
    },
    {
      "cell_type": "code",
      "execution_count": null,
      "metadata": {
        "id": "OIFB-pILoAOE",
        "outputId": "8aed59d0-60da-4d92-d1df-56a0f447ec4b"
      },
      "outputs": [
        {
          "name": "stdout",
          "output_type": "stream",
          "text": [
            "False\n",
            "<class 'dict'>\n"
          ]
        }
      ],
      "source": [
        "s = { }\n",
        "print(type(s) == set)  # Falso!\n",
        "print(type(s))         # Esto es un diccionario"
      ]
    },
    {
      "cell_type": "markdown",
      "metadata": {
        "id": "kZhMAyUkoAOE"
      },
      "source": [
        "### Usando a los conjuntos"
      ]
    },
    {
      "cell_type": "code",
      "execution_count": null,
      "metadata": {
        "id": "NkyvEnbAoAOE",
        "outputId": "7e96eb33-6280-4f9a-ead9-859b45b1c006"
      },
      "outputs": [
        {
          "name": "stdout",
          "output_type": "stream",
          "text": [
            "3\n",
            "True\n",
            "False\n",
            "True\n",
            "False\n",
            "1\n",
            "2\n",
            "7\n"
          ]
        }
      ],
      "source": [
        "# Los conjuntos pueden hacer muchas de las mismas cosas que las listas y las tuplas\n",
        "s = set([1, 2, 3])\n",
        "\n",
        "print(len(s)) # imprime 3\n",
        "\n",
        "print(2 in s) # imprime True\n",
        "print(4 in s) # imprime False\n",
        "print(4 not in s) # imprime True\n",
        "print(2 not in s) # imprime False\n",
        "\n",
        "s.add(7)      # usar add en vez de append para agregar un elemento a un conjunto\n",
        "s.remove(3)   # borra 3 del conjunto; produce un error si 3 no está en s\n",
        "\n",
        "for item in s:     # para recorrer los elementos de s\n",
        "    print(item)"
      ]
    },
    {
      "cell_type": "markdown",
      "metadata": {
        "id": "NJxknTkqoAOE"
      },
      "source": [
        "### Propiedades de los Conjuntos\n",
        "Aunque los conjuntos son muy similares a las listas y las tuplas, tienen algunas importantes diferencias."
      ]
    },
    {
      "cell_type": "markdown",
      "metadata": {
        "id": "oH6B3WNUoAOE"
      },
      "source": [
        "1. Los conjuntos son desordenados"
      ]
    },
    {
      "cell_type": "code",
      "execution_count": null,
      "metadata": {
        "id": "SX-iIjZIoAOE",
        "outputId": "dec57ca0-dc21-464e-f460-6d7c45edd00d"
      },
      "outputs": [
        {
          "name": "stdout",
          "output_type": "stream",
          "text": [
            "{8, 2, 4}\n",
            "8\n",
            "2\n",
            "4\n"
          ]
        },
        {
          "ename": "TypeError",
          "evalue": "'set' object is not subscriptable",
          "output_type": "error",
          "traceback": [
            "\u001b[1;31m---------------------------------------------------------------------------\u001b[0m",
            "\u001b[1;31mTypeError\u001b[0m                                 Traceback (most recent call last)",
            "\u001b[1;32m<ipython-input-41-436e2017c886>\u001b[0m in \u001b[0;36m<module>\u001b[1;34m\u001b[0m\n\u001b[0;32m      6\u001b[0m     \u001b[0mprint\u001b[0m\u001b[1;33m(\u001b[0m\u001b[0melemento\u001b[0m\u001b[1;33m)\u001b[0m\u001b[1;33m\u001b[0m\u001b[1;33m\u001b[0m\u001b[0m\n\u001b[0;32m      7\u001b[0m \u001b[1;33m\u001b[0m\u001b[0m\n\u001b[1;32m----> 8\u001b[1;33m \u001b[0ms\u001b[0m\u001b[1;33m[\u001b[0m\u001b[1;36m0\u001b[0m\u001b[1;33m]\u001b[0m  \u001b[1;31m#error!\u001b[0m\u001b[1;33m\u001b[0m\u001b[1;33m\u001b[0m\u001b[0m\n\u001b[0m",
            "\u001b[1;31mTypeError\u001b[0m: 'set' object is not subscriptable"
          ]
        }
      ],
      "source": [
        "# Los elementos pueden ser mostrados en un orden diferente al ingresado, y además\n",
        "# los conjuntos no se pueden indexar.\n",
        "s = set([2,4,8])\n",
        "print(s)\n",
        "for elemento in s:\n",
        "    print(elemento)\n",
        "\n",
        "s[0]  #error!"
      ]
    },
    {
      "cell_type": "markdown",
      "metadata": {
        "id": "k-EdveZioAOE"
      },
      "source": [
        "2. Los elementos son únicos"
      ]
    },
    {
      "cell_type": "code",
      "execution_count": null,
      "metadata": {
        "id": "jwvpimovoAOE",
        "outputId": "8d19236d-3777-4715-8a60-c6d99db343db"
      },
      "outputs": [
        {
          "name": "stdout",
          "output_type": "stream",
          "text": [
            "{2}\n",
            "1\n"
          ]
        }
      ],
      "source": [
        "# Los conjuntos sólo pueden tener elementos únicos: los duplicados son removidos.\n",
        "s = set([2,2,2])\n",
        "print(s)          # imprime {2}\n",
        "print(len(s))     # imprime 1"
      ]
    },
    {
      "cell_type": "markdown",
      "metadata": {
        "id": "q3NvcjDloAOE"
      },
      "source": [
        "3. Los elementos deben ser inmutables"
      ]
    },
    {
      "cell_type": "code",
      "execution_count": null,
      "metadata": {
        "id": "W2_7KEWloAOE",
        "outputId": "e94e266b-a757-4597-f740-8783342cf1eb"
      },
      "outputs": [
        {
          "name": "stdout",
          "output_type": "stream",
          "text": [
            "{('las', 'tuplas', 'son', 'inmmutables')}\n"
          ]
        },
        {
          "ename": "TypeError",
          "evalue": "unhashable type: 'list'",
          "output_type": "error",
          "traceback": [
            "\u001b[1;31m---------------------------------------------------------------------------\u001b[0m",
            "\u001b[1;31mTypeError\u001b[0m                                 Traceback (most recent call last)",
            "\u001b[1;32m<ipython-input-43-32dcac6d7269>\u001b[0m in \u001b[0;36m<module>\u001b[1;34m\u001b[0m\n\u001b[0;32m      6\u001b[0m \u001b[1;33m\u001b[0m\u001b[0m\n\u001b[0;32m      7\u001b[0m \u001b[0ma\u001b[0m \u001b[1;33m=\u001b[0m \u001b[1;33m[\u001b[0m\u001b[1;34m\"pero\"\u001b[0m\u001b[1;33m,\u001b[0m \u001b[1;34m\"las\"\u001b[0m\u001b[1;33m,\u001b[0m \u001b[1;34m\"listas\"\u001b[0m\u001b[1;33m,\u001b[0m \u001b[1;34m\"son\"\u001b[0m\u001b[1;33m,\u001b[0m \u001b[1;34m\"mutables\"\u001b[0m\u001b[1;33m]\u001b[0m\u001b[1;33m\u001b[0m\u001b[1;33m\u001b[0m\u001b[0m\n\u001b[1;32m----> 8\u001b[1;33m \u001b[0ms\u001b[0m \u001b[1;33m=\u001b[0m \u001b[0mset\u001b[0m\u001b[1;33m(\u001b[0m\u001b[1;33m[\u001b[0m\u001b[0ma\u001b[0m\u001b[1;33m]\u001b[0m\u001b[1;33m)\u001b[0m       \u001b[1;31m# Error: unhashable type: 'list'\u001b[0m\u001b[1;33m\u001b[0m\u001b[1;33m\u001b[0m\u001b[0m\n\u001b[0m\u001b[0;32m      9\u001b[0m \u001b[0mprint\u001b[0m\u001b[1;33m(\u001b[0m\u001b[0ms\u001b[0m\u001b[1;33m)\u001b[0m\u001b[1;33m\u001b[0m\u001b[1;33m\u001b[0m\u001b[0m\n",
            "\u001b[1;31mTypeError\u001b[0m: unhashable type: 'list'"
          ]
        }
      ],
      "source": [
        "# Los conjuntos sólo pueden tener elementos que sean inmutables,\n",
        "# como los números, booleanos, strings y tuplas.\n",
        "t = (\"las\", \"tuplas\", \"son\", \"inmmutables\")\n",
        "s = set([t])\n",
        "print(s)\n",
        "\n",
        "a = [\"pero\", \"las\", \"listas\", \"son\", \"mutables\"]\n",
        "s = set([a])       # Error: unhashable type: 'list'\n",
        "print(s)"
      ]
    },
    {
      "cell_type": "markdown",
      "metadata": {
        "id": "-smAnCwUoAOE"
      },
      "source": [
        "Otro ejemplo"
      ]
    },
    {
      "cell_type": "code",
      "execution_count": null,
      "metadata": {
        "id": "LlV82TRCoAOF",
        "outputId": "021b297f-7d34-4ee1-c5da-e5eac0a37030"
      },
      "outputs": [
        {
          "ename": "TypeError",
          "evalue": "unhashable type: 'set'",
          "output_type": "error",
          "traceback": [
            "\u001b[1;31m---------------------------------------------------------------------------\u001b[0m",
            "\u001b[1;31mTypeError\u001b[0m                                 Traceback (most recent call last)",
            "\u001b[1;32m<ipython-input-44-8b527e017680>\u001b[0m in \u001b[0;36m<module>\u001b[1;34m\u001b[0m\n\u001b[0;32m      1\u001b[0m \u001b[0ms1\u001b[0m \u001b[1;33m=\u001b[0m \u001b[0mset\u001b[0m\u001b[1;33m(\u001b[0m\u001b[1;33m[\u001b[0m\u001b[1;34m\"los\"\u001b[0m\u001b[1;33m,\u001b[0m \u001b[1;34m\"conjuntos\"\u001b[0m\u001b[1;33m,\u001b[0m \u001b[1;34m\"tambien\"\u001b[0m\u001b[1;33m,\u001b[0m \u001b[1;34m\"son\"\u001b[0m\u001b[1;33m,\u001b[0m \u001b[1;34m\"mutables\"\u001b[0m\u001b[1;33m]\u001b[0m\u001b[1;33m)\u001b[0m\u001b[1;33m\u001b[0m\u001b[1;33m\u001b[0m\u001b[0m\n\u001b[1;32m----> 2\u001b[1;33m \u001b[0ms2\u001b[0m \u001b[1;33m=\u001b[0m \u001b[0mset\u001b[0m\u001b[1;33m(\u001b[0m\u001b[1;33m[\u001b[0m\u001b[0ms1\u001b[0m\u001b[1;33m]\u001b[0m\u001b[1;33m)\u001b[0m     \u001b[1;31m# TypeError: unhashable type: 'set'\u001b[0m\u001b[1;33m\u001b[0m\u001b[1;33m\u001b[0m\u001b[0m\n\u001b[0m\u001b[0;32m      3\u001b[0m \u001b[0mprint\u001b[0m\u001b[1;33m(\u001b[0m\u001b[0ms\u001b[0m\u001b[1;33m)\u001b[0m\u001b[1;33m\u001b[0m\u001b[1;33m\u001b[0m\u001b[0m\n",
            "\u001b[1;31mTypeError\u001b[0m: unhashable type: 'set'"
          ]
        }
      ],
      "source": [
        "s1 = set([\"los\", \"conjuntos\", \"tambien\", \"son\", \"mutables\"])\n",
        "s2 = set([s1])     # TypeError: unhashable type: 'set'\n",
        "print(s)"
      ]
    },
    {
      "cell_type": "markdown",
      "metadata": {
        "id": "pNUxWfxnoAOF"
      },
      "source": [
        "### Operaciones"
      ]
    },
    {
      "cell_type": "code",
      "execution_count": null,
      "metadata": {
        "id": "HvafcbjzoAOF",
        "outputId": "b98fce27-12b0-4bcd-af77-ebdce1ff539a"
      },
      "outputs": [
        {
          "data": {
            "text/plain": [
              "{'circulo', 'cuadrado', 'triangulo'}"
            ]
          },
          "execution_count": 45,
          "metadata": {},
          "output_type": "execute_result"
        }
      ],
      "source": [
        "formas = ['circulo','cuadrado','triangulo','circulo']\n",
        "conjunto_de_formas = set(formas)\n",
        "conjunto_de_formas"
      ]
    },
    {
      "cell_type": "code",
      "execution_count": null,
      "metadata": {
        "id": "pb2sUqazoAOF",
        "outputId": "31efbe0d-a0d9-499a-fcec-5fe7e640a97c"
      },
      "outputs": [
        {
          "name": "stdout",
          "output_type": "stream",
          "text": [
            "cuadrado\n",
            "circulo\n",
            "triangulo\n"
          ]
        }
      ],
      "source": [
        "for forma in conjunto_de_formas:\n",
        "    print(forma)"
      ]
    },
    {
      "cell_type": "code",
      "execution_count": null,
      "metadata": {
        "id": "EZe4PrxjoAOF",
        "outputId": "aaffbab9-1df6-45ab-a71f-8d1ab42bc60a"
      },
      "outputs": [
        {
          "name": "stdout",
          "output_type": "stream",
          "text": [
            "{'cuadrado', 'circulo', 'triangulo', 'poligono'}\n"
          ]
        }
      ],
      "source": [
        "conjunto_de_formas.add('poligono')\n",
        "print(conjunto_de_formas)"
      ]
    },
    {
      "cell_type": "code",
      "execution_count": null,
      "metadata": {
        "id": "zlf2bs2yoAOF",
        "outputId": "bfde1065-a5a7-42ae-8cab-fdfee72907de"
      },
      "outputs": [
        {
          "name": "stdout",
          "output_type": "stream",
          "text": [
            "El circulo esta en el conjunto:  True\n",
            "El rombo esta en el conjunto: False\n"
          ]
        }
      ],
      "source": [
        "# Testear si el elemento circulo está en el conjunto (existe)\n",
        "print('El circulo esta en el conjunto: ', ('circulo' in conjunto_de_formas))\n",
        "print('El rombo esta en el conjunto:', ('rombo' in conjunto_de_formas))"
      ]
    },
    {
      "cell_type": "code",
      "execution_count": null,
      "metadata": {
        "id": "Mog8AaGmoAOF",
        "outputId": "a4c4e153-3782-44a9-d1fd-665cb0e5223d"
      },
      "outputs": [
        {
          "data": {
            "text/plain": [
              "{'circulo', 'triangulo'}"
            ]
          },
          "execution_count": 49,
          "metadata": {},
          "output_type": "execute_result"
        }
      ],
      "source": [
        "formas_favoritas = set(['circulo','triangulo','hexagono'])\n",
        "\n",
        "# Intersección\n",
        "conjunto_de_formas.intersection(formas_favoritas)"
      ]
    },
    {
      "cell_type": "code",
      "execution_count": null,
      "metadata": {
        "id": "S4mtXqZSoAOF",
        "outputId": "a1fa616f-0633-4cde-b40e-3ec73ed71e0d"
      },
      "outputs": [
        {
          "data": {
            "text/plain": [
              "{'circulo', 'cuadrado', 'hexagono', 'poligono', 'triangulo'}"
            ]
          },
          "execution_count": 50,
          "metadata": {},
          "output_type": "execute_result"
        }
      ],
      "source": [
        "# Unión\n",
        "conjunto_de_formas.union(formas_favoritas)"
      ]
    },
    {
      "cell_type": "code",
      "execution_count": null,
      "metadata": {
        "id": "6wMU5CbMoAOF",
        "outputId": "23ce7f7e-1013-46d5-cd66-52206682ccf6"
      },
      "outputs": [
        {
          "data": {
            "text/plain": [
              "{'cuadrado', 'poligono'}"
            ]
          },
          "execution_count": 51,
          "metadata": {},
          "output_type": "execute_result"
        }
      ],
      "source": [
        "# Diferencia\n",
        "conjunto_de_formas.difference(formas_favoritas)"
      ]
    }
  ],
  "metadata": {
    "kernelspec": {
      "display_name": "Python 3",
      "language": "python",
      "name": "python3"
    },
    "language_info": {
      "codemirror_mode": {
        "name": "ipython",
        "version": 3
      },
      "file_extension": ".py",
      "mimetype": "text/x-python",
      "name": "python",
      "nbconvert_exporter": "python",
      "pygments_lexer": "ipython3",
      "version": "3.9.0"
    },
    "orig_nbformat": 4,
    "colab": {
      "provenance": [],
      "include_colab_link": true
    }
  },
  "nbformat": 4,
  "nbformat_minor": 0
}